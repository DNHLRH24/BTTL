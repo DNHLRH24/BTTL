{
  "nbformat": 4,
  "nbformat_minor": 0,
  "metadata": {
    "colab": {
      "provenance": [],
      "authorship_tag": "ABX9TyOCY/RKZ2rOT0Nsw/c4Hnmi",
      "include_colab_link": true
    },
    "kernelspec": {
      "name": "python3",
      "display_name": "Python 3"
    },
    "language_info": {
      "name": "python"
    }
  },
  "cells": [
    {
      "cell_type": "markdown",
      "metadata": {
        "id": "view-in-github",
        "colab_type": "text"
      },
      "source": [
        "<a href=\"https://colab.research.google.com/github/Quocdank3/BTTL/blob/main/phan1.ipynb\" target=\"_parent\"><img src=\"https://colab.research.google.com/assets/colab-badge.svg\" alt=\"Open In Colab\"/></a>"
      ]
    },
    {
      "cell_type": "code",
      "execution_count": null,
      "metadata": {
        "id": "FqdxXZhfswYr"
      },
      "outputs": [],
      "source": [
        "import random\n",
        "import os\n",
        "import pickle"
      ]
    },
    {
      "cell_type": "code",
      "source": [
        "a=int(input('nhap a='))\n",
        "b=int(input('nhap b='))\n",
        "n=int(input('nhap n='))"
      ],
      "metadata": {
        "colab": {
          "base_uri": "https://localhost:8080/"
        },
        "id": "Td7btBUZtaAw",
        "outputId": "870d36e1-3b9f-42db-d07b-d30f96c71c34"
      },
      "execution_count": null,
      "outputs": [
        {
          "name": "stdout",
          "output_type": "stream",
          "text": [
            "nhap a=2\n",
            "nhap b=3\n",
            "nhap n=10\n"
          ]
        }
      ]
    },
    {
      "cell_type": "code",
      "source": [
        "def list_so_thuc(a,b,n):\n",
        "  x=[(b-a)*random.random() +a for i in range(n)]\n",
        "  return x"
      ],
      "metadata": {
        "id": "qQqSgvBFs-8h"
      },
      "execution_count": null,
      "outputs": []
    },
    {
      "cell_type": "code",
      "source": [
        "def list_tang_dan(x):\n",
        "  x=sorted(list_so_thuc(a,b,n),reverse=False)\n",
        "  return x"
      ],
      "metadata": {
        "id": "zfROEHY-uibH"
      },
      "execution_count": null,
      "outputs": []
    },
    {
      "cell_type": "code",
      "source": [
        "def list_giam_dan(x):\n",
        "  x=sorted(list_so_thuc(a,b,n),reverse=True)\n",
        "  return x"
      ],
      "metadata": {
        "id": "YXSpGyM0wLCm"
      },
      "execution_count": null,
      "outputs": []
    },
    {
      "cell_type": "code",
      "source": [
        "c=float(input('nhập c='))"
      ],
      "metadata": {
        "colab": {
          "base_uri": "https://localhost:8080/"
        },
        "id": "5a3N2FwwytEM",
        "outputId": "dfe35107-050f-443b-f948-18619fbcb3ed"
      },
      "execution_count": null,
      "outputs": [
        {
          "name": "stdout",
          "output_type": "stream",
          "text": [
            "nhập c=3\n"
          ]
        }
      ]
    },
    {
      "cell_type": "code",
      "source": [
        "def tim_kiem_trong_list(x):\n",
        "  try:\n",
        "    print('vi tri cua c la ', x.index(c))\n",
        "  except :\n",
        "    print('khong tim thay')"
      ],
      "metadata": {
        "id": "VdRcY2Lzwi7b"
      },
      "execution_count": null,
      "outputs": []
    },
    {
      "cell_type": "code",
      "source": [
        "def luu_list_vao_tap_tin(thumuc:str,tentaptin:str,n:str,dang_tap_tin:str):\n",
        "  path='C://doan'\n",
        "  filename='luudo.dat'\n",
        "  if dang_tap_tin=='vanban':\n",
        "    try:\n",
        "      with open(os.path.join(path,filename),'w')as x:\n",
        "        x.write(str(n))\n",
        "      print('kết thúc quá trình lưu ')\n",
        "    except Exception as x :\n",
        "      print('xảy ra lỗi trong quá trình lưu')\n",
        "  elif dang_tap_tin=='nhiphan':\n",
        "    try:\n",
        "      with open(os.path.join(path,filename),'wb') as x :\n",
        "        pickle.dum(list_so_thuc(a,b,n),x)\n",
        "      print('kết thúc quá trình lưu')\n",
        "    except Exception as x :\n",
        "      print('xảy ra lỗi trong quá trình lưu')"
      ],
      "metadata": {
        "id": "GBV_Dn6Wx_a4"
      },
      "execution_count": null,
      "outputs": []
    },
    {
      "cell_type": "code",
      "source": [
        "def main():\n",
        "  x=list_so_thuc(a,b,n)\n",
        "  print('list tăng dần :',list_tang_dan(x))\n",
        "  print('list giảm dần :',list_giam_dan(x))\n",
        "  print('list số thực sinh ngẫu nhiên là :',x)\n",
        "  tim_kiem_trong_list(x)\n",
        "  path='C://doan'\n",
        "  filename='luudo.dat'\n",
        "  luu_list_vao_tap_tin(path,filename,x,'vanban')"
      ],
      "metadata": {
        "id": "Fq-0tq5bggmn"
      },
      "execution_count": null,
      "outputs": []
    },
    {
      "cell_type": "code",
      "source": [
        "if __name__ == '__main__':\n",
        "  main()"
      ],
      "metadata": {
        "colab": {
          "base_uri": "https://localhost:8080/"
        },
        "id": "u43GbBF91jnN",
        "outputId": "19bd2f84-4f90-493a-90c3-d473602e5ec9"
      },
      "execution_count": null,
      "outputs": [
        {
          "output_type": "stream",
          "name": "stdout",
          "text": [
            "list tăng dần : [2.03765056941248, 2.144705282965459, 2.1719349417100013, 2.360604368388939, 2.58025460361076, 2.6725839753361242, 2.673109310384919, 2.751974141539081, 2.8989989951777098, 2.9059379094695066]\n",
            "list giảm dần : [2.844381919137358, 2.8335618778977087, 2.6607212868671715, 2.6511570481441513, 2.5626407245982747, 2.5378032387870277, 2.4930955922444817, 2.2490076566472537, 2.146455907399547, 2.0149724583613304]\n",
            "list số thực sinh ngẫu nhiên là : [2.2591118724704833, 2.296396139902251, 2.3714263172027303, 2.5701773716358045, 2.754126667865323, 2.2615029210995026, 2.4298433606496026, 2.168680019854387, 2.3829324392904425, 2.05102018371111]\n",
            "khong tim thay\n",
            "xảy ra lỗi trong quá trình lưu\n"
          ]
        }
      ]
    },
    {
      "cell_type": "code",
      "source": [
        "import os\n",
        "import random\n",
        "import pickle\n",
        "a=int(input('nhap a='))\n",
        "b=int(input('nhap b='))\n",
        "n=int(input('nhap n='))\n",
        "# câu a : sinh ngẫu nhiên 1 list số thực trong khoảng [a,b]\n",
        "def list_so_thuc(a,b,n):\n",
        "    x=[(b-a)*random.random() +a for i in range(n)]\n",
        "    return x \n",
        "# câu b : lưu list câu a vào tập tin văn bản \n",
        "def luu_list_vao_tap_tin(thumuc:str,tentaptin:str,dang_tap_tin:str):\n",
        "    path='C://doan'\n",
        "    filename='luudo.dat'\n",
        "    if dang_tap_tin=='vanban':\n",
        "       try:\n",
        "           with open(os.path.join(path,filename),'w')as x:\n",
        "                x.write(str(n))\n",
        "           print('kết thúc quá trình lưu ')\n",
        "       except Exception as x :\n",
        "            print('xảy ra lỗi trong quá trình lưu')\n",
        "    elif dang_tap_tin=='nhiphan':\n",
        "      try:\n",
        "           with open(os.path.join(path,filename),'wb') as x :\n",
        "             pickle.dum(list_so_thuc(a,b,n),x)\n",
        "           print('kết thúc quá trình lưu')\n",
        "      except Exception as x :\n",
        "       print('xảy ra lỗi trong quá trình lưu')\n",
        "# câu c : sắp xếp list theo chiều giảm đân\n",
        "def list_giam_dan(x):\n",
        "    x=sorted(list_so_thuc(a,b,n),reverse=True)\n",
        "    return x\n",
        "# câu d : lưu list giảm dần vào tập tin văn bản  \n",
        "def luu_list_giam_dan(thumuc:str,tentaptin:str,dang_tap_tin:str):\n",
        "    path='C://doan'\n",
        "    filename='luudo.dat'\n",
        "    if dang_tap_tin=='vanban':\n",
        "       try:\n",
        "          with open(os.path.join(path,filename),'w')as x:\n",
        "              x.write(str(n))\n",
        "          print('kết thúc quá trình lưu ')\n",
        "       except Exception as x :\n",
        "          print('xảy ra lỗi trong quá trình lưu')\n",
        "    elif dang_tap_tin=='nhiphan':\n",
        "        try:\n",
        "           with open(os.path.join(path,filename),'wb') as x :\n",
        "              pickle.dum(list_giam_dan(x),x)\n",
        "           print('kết thúc quá trình lưu')\n",
        "        except Exception as x :\n",
        "           print('xảy ra lỗi trong quá trình lưu')\n",
        "# câu e tìm số c trong câu d\n",
        "c=float(input('nhập c='))\n",
        "def tim_kiem_trong_list(c):\n",
        "    try:\n",
        "       print('vi tri cua c la ', list_giam_dan(x).index(c))\n",
        "    except :\n",
        "       print('khong tim thay')\n",
        "def main():\n",
        "    x=list_so_thuc(a,b,n)\n",
        "    print('list số thực :',x)\n",
        "    print('list giảm dần :',list_giam_dan(x))\n",
        "    tim_kiem_trong_list(list_giam_dan(x))\n",
        "    path='C://doan'\n",
        "    filename='luudo.dat'\n",
        "    luu_list_vao_tap_tin(path,filename,'vanban')\n",
        "    luu_list_giam_dan(path,filename,'vanban')\n",
        "if __name__ == '__main__':\n",
        "    main()\n"
      ],
      "metadata": {
        "colab": {
          "base_uri": "https://localhost:8080/"
        },
        "id": "TPNLrJ5BqJh7",
        "outputId": "6a40106a-8206-48e6-ab51-ee481201c1a3"
      },
      "execution_count": null,
      "outputs": [
        {
          "output_type": "stream",
          "name": "stdout",
          "text": [
            "nhap a=2\n",
            "nhap b=4\n",
            "nhap n=12\n",
            "nhập c=3\n",
            "list số thực : [3.2238886876425488, 2.8076180867649247, 2.7058456409783824, 3.271637813463596, 2.8056712466716824, 2.7275200297887894, 2.822899964723482, 2.0638780852659684, 3.8942160661851704, 3.525965670746101, 2.6911034788630843, 3.075933297269175]\n",
            "list giảm dần : [3.569585582149754, 3.5595726474454956, 3.4944688468184184, 3.3378514795262797, 3.207905878545975, 3.053636665488572, 2.813672014424621, 2.6690354885336367, 2.402221458025674, 2.2243011640077874, 2.129054848614534, 2.0405917309727464]\n",
            "khong tim thay\n",
            "xảy ra lỗi trong quá trình lưu\n",
            "xảy ra lỗi trong quá trình lưu\n"
          ]
        }
      ]
    }
  ]
}
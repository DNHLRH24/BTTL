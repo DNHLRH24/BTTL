{
  "nbformat": 4,
  "nbformat_minor": 0,
  "metadata": {
    "colab": {
      "provenance": [],
      "authorship_tag": "ABX9TyP1kHW/Q5kC5IrzcMw3m8nL",
      "include_colab_link": true
    },
    "kernelspec": {
      "name": "python3",
      "display_name": "Python 3"
    },
    "language_info": {
      "name": "python"
    }
  },
  "cells": [
    {
      "cell_type": "markdown",
      "metadata": {
        "id": "view-in-github",
        "colab_type": "text"
      },
      "source": [
        "<a href=\"https://colab.research.google.com/github/Quocdank3/BTTL/blob/main/bt_set.ipynb\" target=\"_parent\"><img src=\"https://colab.research.google.com/assets/colab-badge.svg\" alt=\"Open In Colab\"/></a>"
      ]
    },
    {
      "cell_type": "code",
      "execution_count": 18,
      "metadata": {
        "id": "52uA5vmRqApE"
      },
      "outputs": [],
      "source": [
        "A =set(['NNLT Python', 'Đại số tuyến tính', 'Tiếng Anh chuyên ngành', 'Thể dục'])\n",
        "B =set(['NNLT Python', 'Đại số tuyến tính', 'Tối ưu hóa', 'Học Máy', 'Học sâu', 'Computer vision', 'Natural Language Processing', 'Recommender Systems'])\n"
      ]
    },
    {
      "cell_type": "code",
      "source": [
        "print(A)\n",
        "print(B)"
      ],
      "metadata": {
        "colab": {
          "base_uri": "https://localhost:8080/"
        },
        "id": "6maZ5Z-vsUT3",
        "outputId": "c5685a4c-95b0-4348-c270-c186bc3c0f87"
      },
      "execution_count": 19,
      "outputs": [
        {
          "output_type": "stream",
          "name": "stdout",
          "text": [
            "{'NNLT Python', 'Tiếng Anh chuyên ngành', 'Thể dục', 'Đại số tuyến tính'}\n",
            "{'NNLT Python', 'Recommender Systems', 'Đại số tuyến tính', 'Computer vision', 'Học sâu', 'Tối ưu hóa', 'Natural Language Processing', 'Học Máy'}\n"
          ]
        }
      ]
    },
    {
      "cell_type": "code",
      "source": [
        "C=A.union(B)\n",
        "print(C)"
      ],
      "metadata": {
        "colab": {
          "base_uri": "https://localhost:8080/"
        },
        "id": "x3ww-TAdsZ0O",
        "outputId": "22099b29-804d-4244-9c89-b6625838f6ac"
      },
      "execution_count": 24,
      "outputs": [
        {
          "output_type": "stream",
          "name": "stdout",
          "text": [
            "{'NNLT Python', 'Recommender Systems', 'Tiếng Anh chuyên ngành', 'Tối ưu hóa', 'Đại số tuyến tính', 'Computer vision', 'Học sâu', 'Thể dục', 'Natural Language Processing', 'Học Máy'}\n"
          ]
        }
      ]
    },
    {
      "cell_type": "code",
      "source": [
        "D=A.intersection(B)\n",
        "print(D)"
      ],
      "metadata": {
        "colab": {
          "base_uri": "https://localhost:8080/"
        },
        "id": "D98gnaV5vwqz",
        "outputId": "37c2baaa-684b-4199-b8aa-4b0ca685e8e0"
      },
      "execution_count": 25,
      "outputs": [
        {
          "output_type": "stream",
          "name": "stdout",
          "text": [
            "{'NNLT Python', 'Đại số tuyến tính'}\n"
          ]
        }
      ]
    },
    {
      "cell_type": "code",
      "source": [
        "E=A-B\n",
        "print(E)"
      ],
      "metadata": {
        "colab": {
          "base_uri": "https://localhost:8080/"
        },
        "id": "AHA0DE02wVD_",
        "outputId": "0bb06bbc-614a-4f63-ff14-0dc375e3382c"
      },
      "execution_count": 26,
      "outputs": [
        {
          "output_type": "stream",
          "name": "stdout",
          "text": [
            "{'Thể dục', 'Tiếng Anh chuyên ngành'}\n"
          ]
        }
      ]
    },
    {
      "cell_type": "code",
      "source": [
        "F=B-A\n",
        "print(F)"
      ],
      "metadata": {
        "colab": {
          "base_uri": "https://localhost:8080/"
        },
        "id": "wcHNNhpowsuE",
        "outputId": "5d90b070-5c38-4758-a6a3-6e667e5f5f47"
      },
      "execution_count": 27,
      "outputs": [
        {
          "output_type": "stream",
          "name": "stdout",
          "text": [
            "{'Recommender Systems', 'Computer vision', 'Học sâu', 'Tối ưu hóa', 'Natural Language Processing', 'Học Máy'}\n"
          ]
        }
      ]
    },
    {
      "cell_type": "code",
      "source": [
        "x = [1, 1, 1, 2, 2, 3, 3 ,3, 4 ,5 ,6, 7]\n",
        "print(x)"
      ],
      "metadata": {
        "colab": {
          "base_uri": "https://localhost:8080/"
        },
        "id": "p5DnHqVAw1Wl",
        "outputId": "20c634e8-5234-4161-b57f-c0c8fbc9d97e"
      },
      "execution_count": 28,
      "outputs": [
        {
          "output_type": "stream",
          "name": "stdout",
          "text": [
            "[1, 1, 1, 2, 2, 3, 3, 3, 4, 5, 6, 7]\n"
          ]
        }
      ]
    },
    {
      "cell_type": "code",
      "source": [
        "print(set(x))"
      ],
      "metadata": {
        "colab": {
          "base_uri": "https://localhost:8080/"
        },
        "id": "7_OU8bVXxM2y",
        "outputId": "f5f0aebf-b491-4eab-927f-06885a47accb"
      },
      "execution_count": 29,
      "outputs": [
        {
          "output_type": "stream",
          "name": "stdout",
          "text": [
            "{1, 2, 3, 4, 5, 6, 7}\n"
          ]
        }
      ]
    }
  ]
}
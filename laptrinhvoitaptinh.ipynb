{
  "nbformat": 4,
  "nbformat_minor": 0,
  "metadata": {
    "colab": {
      "provenance": [],
      "authorship_tag": "ABX9TyPUY6eiFD0aXDuewsjT3/Kf",
      "include_colab_link": true
    },
    "kernelspec": {
      "name": "python3",
      "display_name": "Python 3"
    },
    "language_info": {
      "name": "python"
    }
  },
  "cells": [
    {
      "cell_type": "markdown",
      "metadata": {
        "id": "view-in-github",
        "colab_type": "text"
      },
      "source": [
        "<a href=\"https://colab.research.google.com/github/Quocdank3/BTTL/blob/main/laptrinhvoitaptinh.ipynb\" target=\"_parent\"><img src=\"https://colab.research.google.com/assets/colab-badge.svg\" alt=\"Open In Colab\"/></a>"
      ]
    },
    {
      "cell_type": "code",
      "execution_count": null,
      "metadata": {
        "id": "t5V9ey2_ICGN"
      },
      "outputs": [],
      "source": [
        "import os"
      ]
    },
    {
      "cell_type": "code",
      "source": [
        "data = (\"toi yeu em\")\n",
        "f=open(\"C:\\toimuonyeuem.txt\",\"w\")\n",
        "f.write(data)"
      ],
      "metadata": {
        "colab": {
          "base_uri": "https://localhost:8080/"
        },
        "id": "LNAFa3m_toyg",
        "outputId": "ed71fb29-fb24-4e0d-9559-9e1c1bdf35f8"
      },
      "execution_count": null,
      "outputs": [
        {
          "output_type": "execute_result",
          "data": {
            "text/plain": [
              "10"
            ]
          },
          "metadata": {},
          "execution_count": 150
        }
      ]
    },
    {
      "cell_type": "code",
      "source": [
        "f=open(\"C:\\toimuonyeuem.txt\",\"r\")\n",
        "print(f.read())"
      ],
      "metadata": {
        "colab": {
          "base_uri": "https://localhost:8080/"
        },
        "id": "9_k39ARyxLK3",
        "outputId": "8564f4ca-10f0-4130-a7d6-db0a30b9e82b"
      },
      "execution_count": null,
      "outputs": [
        {
          "output_type": "stream",
          "name": "stdout",
          "text": [
            "toi yeu em\n"
          ]
        }
      ]
    },
    {
      "cell_type": "code",
      "source": [
        "f=open(\"C:\\toimuonyeuem.txt\",\"a\")\n",
        "data=(\"yeulathathu\")\n",
        "f.write(data)"
      ],
      "metadata": {
        "colab": {
          "base_uri": "https://localhost:8080/"
        },
        "id": "kW8uZGcs4OKn",
        "outputId": "70aa6325-ebb3-4321-9d21-c3f12e3de740"
      },
      "execution_count": null,
      "outputs": [
        {
          "output_type": "execute_result",
          "data": {
            "text/plain": [
              "11"
            ]
          },
          "metadata": {},
          "execution_count": 153
        }
      ]
    },
    {
      "cell_type": "code",
      "source": [
        "f=open(\"C:\\toimuonyeuem.txt\",\"r\")\n",
        "print(f.read())"
      ],
      "metadata": {
        "colab": {
          "base_uri": "https://localhost:8080/"
        },
        "id": "-93uBCZ15JM_",
        "outputId": "cdc4e890-7ec4-4959-d0ca-fb06df7fc1ea"
      },
      "execution_count": null,
      "outputs": [
        {
          "output_type": "stream",
          "name": "stdout",
          "text": [
            "toi yeu emyeulathathu\n"
          ]
        }
      ]
    },
    {
      "cell_type": "code",
      "source": [
        "import numpy as np\n",
        "import random\n",
        "data=[np.random.randint(-1000,1000) for i in range(0,1000)]\n",
        "h=0\n",
        "f= open(\"C:\\sinhngaunhien1danhsach\",\"w+\")\n",
        "for i in range (100):\n",
        "  for j in range(0,10):\n",
        "    f.write(f\"{data[h]},\")\n",
        "    h=h+1\n",
        "    f.write(\"\\n\")\n",
        "for sx in f.readlines():\n",
        "  print(sx.readlines(', ',\"\\t\"))\n",
        "f.close()"
      ],
      "metadata": {
        "id": "zQoLmhyJ6TbY"
      },
      "execution_count": null,
      "outputs": []
    }
  ]
}
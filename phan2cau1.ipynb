{
  "nbformat": 4,
  "nbformat_minor": 0,
  "metadata": {
    "colab": {
      "provenance": [],
      "authorship_tag": "ABX9TyM8ol7GOtpIb+ztx1Ye7ZJD",
      "include_colab_link": true
    },
    "kernelspec": {
      "name": "python3",
      "display_name": "Python 3"
    },
    "language_info": {
      "name": "python"
    }
  },
  "cells": [
    {
      "cell_type": "markdown",
      "metadata": {
        "id": "view-in-github",
        "colab_type": "text"
      },
      "source": [
        "<a href=\"https://colab.research.google.com/github/Quocdank3/BTTL/blob/main/phan2cau1.ipynb\" target=\"_parent\"><img src=\"https://colab.research.google.com/assets/colab-badge.svg\" alt=\"Open In Colab\"/></a>"
      ]
    },
    {
      "cell_type": "code",
      "execution_count": null,
      "metadata": {
        "id": "QWj6fCpzS_G9"
      },
      "outputs": [],
      "source": [
        "import numpy as np"
      ]
    },
    {
      "cell_type": "code",
      "source": [
        "# vector nhân ma trận\n",
        "def vector_nhan_ma_tran(m,n):\n",
        "  x=np.arange(n)\n",
        "  A=np.random.rand(m,n)\n",
        "  f=A.dot(x)\n",
        "  print('x*A=',f)"
      ],
      "metadata": {
        "id": "bcGKwlgSTFps"
      },
      "execution_count": null,
      "outputs": []
    },
    {
      "cell_type": "code",
      "source": [
        "#nhân Hadamard 2 ma trận \n",
        "def nhan_hadamard_2ma_tran(m,n):\n",
        "  A=np.random.rand(m,n)\n",
        "  B=np.random.rand(m,n)\n",
        "  f1=np.multiply(A,B)\n",
        "  print('A*B=',f1)"
      ],
      "metadata": {
        "id": "kgQzmV-mI439"
      },
      "execution_count": null,
      "outputs": []
    },
    {
      "cell_type": "code",
      "source": [
        "# nhân 2 ma trận \n",
        "def nhan_2_ma_tran2(m,n):\n",
        "  A=np.random.rand(m,n)\n",
        "  A_t=np.transpose(A)\n",
        "  B=np.random.rand(m,n)\n",
        "  f2=np.dot(A_t,B)\n",
        "  print('A_t*B=',f2)"
      ],
      "metadata": {
        "id": "boqhi3gFL1ul"
      },
      "execution_count": null,
      "outputs": []
    },
    {
      "cell_type": "code",
      "source": [
        "def main():\n",
        "  m=int(input('nhap m:'))\n",
        "  n=int(input('nhap n:'))\n",
        "  vector_nhan_ma_tran(m,n)\n",
        "  nhan_hadamard_2ma_tran(m,n)\n",
        "  nhan_2_ma_tran2(m,n)"
      ],
      "metadata": {
        "id": "AotZJh2gMsD8"
      },
      "execution_count": null,
      "outputs": []
    },
    {
      "cell_type": "code",
      "source": [
        "if __name__== '__main__':\n",
        "  main()"
      ],
      "metadata": {
        "colab": {
          "base_uri": "https://localhost:8080/"
        },
        "id": "ti4SQuO5Nygs",
        "outputId": "9c2a4f1b-1423-4e76-9ad5-bfc479a5468a"
      },
      "execution_count": null,
      "outputs": [
        {
          "output_type": "stream",
          "name": "stdout",
          "text": [
            "nhap m:3\n",
            "nhap n:4\n",
            "x*A= [3.21168753 3.19451445 0.85045684]\n",
            "A*B= [[0.07769143 0.28961569 0.47334702 0.32912581]\n",
            " [0.29911334 0.10865704 0.03052065 0.53378447]\n",
            " [0.73140084 0.20334163 0.2406795  0.76364186]]\n",
            "A_t*B= [[0.6713388  0.88442275 0.23202885 0.47690124]\n",
            " [0.72046542 0.53215567 0.5674739  0.45473487]\n",
            " [0.47362838 0.3227502  0.27232289 0.35267892]\n",
            " [0.76452706 0.93007229 0.2584327  0.56315853]]\n"
          ]
        }
      ]
    }
  ]
}
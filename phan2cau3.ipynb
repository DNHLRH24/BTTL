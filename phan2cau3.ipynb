{
  "nbformat": 4,
  "nbformat_minor": 0,
  "metadata": {
    "colab": {
      "provenance": [],
      "authorship_tag": "ABX9TyMuhEd5JfjRk+vy63R4HDRx",
      "include_colab_link": true
    },
    "kernelspec": {
      "name": "python3",
      "display_name": "Python 3"
    },
    "language_info": {
      "name": "python"
    }
  },
  "cells": [
    {
      "cell_type": "markdown",
      "metadata": {
        "id": "view-in-github",
        "colab_type": "text"
      },
      "source": [
        "<a href=\"https://colab.research.google.com/github/Quocdank3/BTTL/blob/main/phan2cau3.ipynb\" target=\"_parent\"><img src=\"https://colab.research.google.com/assets/colab-badge.svg\" alt=\"Open In Colab\"/></a>"
      ]
    },
    {
      "cell_type": "code",
      "execution_count": null,
      "metadata": {
        "id": "h-tHbvFhdNvD"
      },
      "outputs": [],
      "source": [
        "import numpy as np\n",
        "import matplotlib.pyplot as plt \n",
        "from sympy import*"
      ]
    },
    {
      "cell_type": "code",
      "source": [
        "# hàm bâc 4\n",
        "def ham_bac4(a,b,c,d,e,x):\n",
        "  f=a*x**4+b*x**3+c**2+d*x+e\n",
        "  return f"
      ],
      "metadata": {
        "id": "C1jMLBj_eBKB"
      },
      "execution_count": null,
      "outputs": []
    },
    {
      "cell_type": "code",
      "source": [
        "# hàm bậc 3\n",
        "def ham_bac3(a,b,c,d,x):\n",
        "  f=a*x**3+b**2+c*x+d\n",
        "  return f"
      ],
      "metadata": {
        "id": "zQq4dE4pHJ31"
      },
      "execution_count": null,
      "outputs": []
    },
    {
      "cell_type": "code",
      "source": [
        "# hàm bậc 2\n",
        "def ham_bac2(a,b,c,x):\n",
        "  f=a*x**2+b*x+c\n",
        "  return f"
      ],
      "metadata": {
        "id": "jVAAXK24Hr68"
      },
      "execution_count": null,
      "outputs": []
    },
    {
      "cell_type": "code",
      "source": [
        "# hàm bậc 1\n",
        "def ham_bac1(a,b,x):\n",
        "  f=a*x+b\n",
        "  return f"
      ],
      "metadata": {
        "id": "1Ksa6Ij6IAF0"
      },
      "execution_count": null,
      "outputs": []
    },
    {
      "cell_type": "code",
      "source": [
        "# y phay\n",
        "x=symbols('x')\n",
        "y1=x**4-2*x**2-3\n",
        "kq=diff(y1,x)\n",
        "print('y phẩy =',kq)"
      ],
      "metadata": {
        "colab": {
          "base_uri": "https://localhost:8080/"
        },
        "id": "PMiSzKyYv9tB",
        "outputId": "b9fa072d-74ff-4423-9ad5-d336fe68c7eb"
      },
      "execution_count": null,
      "outputs": [
        {
          "output_type": "stream",
          "name": "stdout",
          "text": [
            "y phẩy = 4*x**3 - 4*x\n"
          ]
        }
      ]
    },
    {
      "cell_type": "code",
      "source": [
        "# y 2 phay\n",
        "x=symbols('x')\n",
        "y2=4*x**3-4*x\n",
        "kq=diff(y2,)\n",
        "print(' y 2 phẩy =',kq)"
      ],
      "metadata": {
        "colab": {
          "base_uri": "https://localhost:8080/"
        },
        "id": "uxcok3H71Utv",
        "outputId": "f21ceed2-6131-42ed-dc04-2f6afc020074"
      },
      "execution_count": null,
      "outputs": [
        {
          "output_type": "stream",
          "name": "stdout",
          "text": [
            " y 2 phẩy = 12*x**2 - 4\n"
          ]
        }
      ]
    },
    {
      "cell_type": "code",
      "source": [
        "# y 3 phay\n",
        "x=symbols('x')\n",
        "y3=12*x**2-4\n",
        "kq=diff(y3,x)\n",
        "print('y 3 phẩy =',kq)"
      ],
      "metadata": {
        "colab": {
          "base_uri": "https://localhost:8080/"
        },
        "id": "cmvILQjtEnUW",
        "outputId": "51e2a800-5717-4d16-e847-4b864c0504f6"
      },
      "execution_count": null,
      "outputs": [
        {
          "output_type": "stream",
          "name": "stdout",
          "text": [
            "y 3 phẩy = 24*x\n"
          ]
        }
      ]
    },
    {
      "cell_type": "code",
      "source": [
        "x=np.linspace(-10,10)\n",
        "y=ham_bac4(1,0,-2,0,-3,x)\n",
        "y1=ham_bac3(4,0,-4,0,x)\n",
        "y2=ham_bac2(12,0,4,x)\n",
        "y3=ham_bac1(24,0,x)"
      ],
      "metadata": {
        "id": "XVtypb5htkLb"
      },
      "execution_count": null,
      "outputs": []
    },
    {
      "cell_type": "code",
      "source": [
        "fig,ax=plt.subplots()\n",
        "ax.plot(x,y,label=r'$y=a*x**4-2*c**2-3$')\n",
        "ax.plot(x,y1,label=r'$yphẩy=4*x**3 - 4*x$')\n",
        "ax.plot(x,y2,label=r'$y2phẩy=12*x**2 - 4$')\n",
        "ax.plot(x,y3,label=r'$y3phẩy=24*x$')\n",
        "ax.set_xlabel('trục hoành  x')\n",
        "ax.set_ylabel('trục tung  y ')\n",
        "ax.set_title('hình vẽ pt y, y phẩy , y 2 phẩy và y 3 phẩy')\n",
        "ax.legend()\n",
        "plt.show"
      ],
      "metadata": {
        "colab": {
          "base_uri": "https://localhost:8080/",
          "height": 314
        },
        "id": "Sa3iGQgp39TM",
        "outputId": "5d08740d-b6a5-4498-f39c-7b72bf1afa27"
      },
      "execution_count": null,
      "outputs": [
        {
          "output_type": "execute_result",
          "data": {
            "text/plain": [
              "<function matplotlib.pyplot.show(*args, **kw)>"
            ]
          },
          "metadata": {},
          "execution_count": 11
        },
        {
          "output_type": "display_data",
          "data": {
            "text/plain": [
              "<Figure size 432x288 with 1 Axes>"
            ],
            "image/png": "[encoded data removed]"
          },
          "metadata": {
            "needs_background": "light"
          }
        }
      ]
    }
  ]
}
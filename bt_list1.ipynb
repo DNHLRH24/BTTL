{
  "nbformat": 4,
  "nbformat_minor": 0,
  "metadata": {
    "colab": {
      "provenance": [],
      "authorship_tag": "ABX9TyMscbMvxnEt20n5T+oDUgjj",
      "include_colab_link": true
    },
    "kernelspec": {
      "name": "python3",
      "display_name": "Python 3"
    },
    "language_info": {
      "name": "python"
    }
  },
  "cells": [
    {
      "cell_type": "markdown",
      "metadata": {
        "id": "view-in-github",
        "colab_type": "text"
      },
      "source": [
        "<a href=\"https://colab.research.google.com/github/Quocdank3/BTTL/blob/main/bt_list1.ipynb\" target=\"_parent\"><img src=\"https://colab.research.google.com/assets/colab-badge.svg\" alt=\"Open In Colab\"/></a>"
      ]
    },
    {
      "cell_type": "markdown",
      "source": [
        "bai1"
      ],
      "metadata": {
        "id": "dWX3fTUXkrEk"
      }
    },
    {
      "cell_type": "code",
      "execution_count": null,
      "metadata": {
        "id": "QJmgHa7yf-bK"
      },
      "outputs": [],
      "source": [
        "x=[]\n",
        "\n"
      ]
    },
    {
      "cell_type": "markdown",
      "source": [
        "bai2"
      ],
      "metadata": {
        "id": "y5qqr-eKktcD"
      }
    },
    {
      "cell_type": "code",
      "source": [
        "x.append(18)"
      ],
      "metadata": {
        "id": "CrKzZDw1iY3C"
      },
      "execution_count": null,
      "outputs": []
    },
    {
      "cell_type": "markdown",
      "source": [
        "bai3"
      ],
      "metadata": {
        "id": "ikwM4BabkxDT"
      }
    },
    {
      "cell_type": "code",
      "source": [
        "x.append(\"Huế\")"
      ],
      "metadata": {
        "id": "yLRyNONzifMx"
      },
      "execution_count": null,
      "outputs": []
    },
    {
      "cell_type": "markdown",
      "source": [
        "bai4"
      ],
      "metadata": {
        "id": "WEU-z6Bwk5SA"
      }
    },
    {
      "cell_type": "code",
      "source": [
        "y=[12,45,-1,-0.56,\"abc\"]"
      ],
      "metadata": {
        "id": "r0cFFUa6jDCT"
      },
      "execution_count": null,
      "outputs": []
    },
    {
      "cell_type": "markdown",
      "source": [
        "bai5"
      ],
      "metadata": {
        "id": "x_L6PKkPk6fn"
      }
    },
    {
      "cell_type": "code",
      "source": [
        "x.extend(y)"
      ],
      "metadata": {
        "id": "2dGcBy6wjWgd"
      },
      "execution_count": null,
      "outputs": []
    },
    {
      "cell_type": "markdown",
      "source": [
        "bai6"
      ],
      "metadata": {
        "id": "71-GQ8rSlgW4"
      }
    },
    {
      "cell_type": "code",
      "source": [
        "print(x)"
      ],
      "metadata": {
        "colab": {
          "base_uri": "https://localhost:8080/"
        },
        "id": "5q3WmRSUjmWg",
        "outputId": "0abad917-e5e5-4b4b-bc1a-d521558d4c84"
      },
      "execution_count": null,
      "outputs": [
        {
          "output_type": "stream",
          "name": "stdout",
          "text": [
            "[18, 'Huế', 12, 45, -1, -0.56, 'abc']\n"
          ]
        }
      ]
    },
    {
      "cell_type": "markdown",
      "source": [
        "bai7"
      ],
      "metadata": {
        "id": "7KltkcqDlmMr"
      }
    },
    {
      "cell_type": "code",
      "source": [
        "print(x[0])"
      ],
      "metadata": {
        "colab": {
          "base_uri": "https://localhost:8080/"
        },
        "id": "DuK1RUXhjtEU",
        "outputId": "4ca09741-c334-4f17-8647-899cc8b16948"
      },
      "execution_count": null,
      "outputs": [
        {
          "output_type": "stream",
          "name": "stdout",
          "text": [
            "18\n"
          ]
        }
      ]
    },
    {
      "cell_type": "markdown",
      "source": [
        "bai8"
      ],
      "metadata": {
        "id": "DV0O3mkRl6tS"
      }
    },
    {
      "cell_type": "code",
      "source": [
        "print(x[-1])"
      ],
      "metadata": {
        "colab": {
          "base_uri": "https://localhost:8080/"
        },
        "id": "pQztyYFvj41H",
        "outputId": "636f2027-5a84-44dd-a8d6-6e48f9b1f46a"
      },
      "execution_count": null,
      "outputs": [
        {
          "output_type": "stream",
          "name": "stdout",
          "text": [
            "abc\n"
          ]
        }
      ]
    },
    {
      "cell_type": "markdown",
      "source": [
        "bai9"
      ],
      "metadata": {
        "id": "SoNUUHqDltqY"
      }
    },
    {
      "cell_type": "code",
      "source": [
        "print(x[:5])"
      ],
      "metadata": {
        "colab": {
          "base_uri": "https://localhost:8080/"
        },
        "id": "mwVpHybUj89-",
        "outputId": "668bc477-a395-4953-b2d9-6ec45f83c2cd"
      },
      "execution_count": null,
      "outputs": [
        {
          "output_type": "stream",
          "name": "stdout",
          "text": [
            "[18, 'Huế', 12, 45, -1]\n"
          ]
        }
      ]
    },
    {
      "cell_type": "markdown",
      "source": [
        "bai10"
      ],
      "metadata": {
        "id": "H09U8CpDlsHj"
      }
    },
    {
      "cell_type": "code",
      "source": [
        "print(x[2:])"
      ],
      "metadata": {
        "colab": {
          "base_uri": "https://localhost:8080/"
        },
        "id": "ftTLXD2FkNQa",
        "outputId": "73975b54-b62e-42cc-f225-b205c0df5f6a"
      },
      "execution_count": null,
      "outputs": [
        {
          "output_type": "stream",
          "name": "stdout",
          "text": [
            "[12, 45, -1, -0.56, 'abc']\n"
          ]
        }
      ]
    }
  ]
}
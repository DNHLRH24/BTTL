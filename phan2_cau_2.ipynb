{
  "nbformat": 4,
  "nbformat_minor": 0,
  "metadata": {
    "colab": {
      "provenance": [],
      "authorship_tag": "ABX9TyOU5fGnMPb1VfgFSizLQlDS",
      "include_colab_link": true
    },
    "kernelspec": {
      "name": "python3",
      "display_name": "Python 3"
    },
    "language_info": {
      "name": "python"
    }
  },
  "cells": [
    {
      "cell_type": "markdown",
      "metadata": {
        "id": "view-in-github",
        "colab_type": "text"
      },
      "source": [
        "<a href=\"https://colab.research.google.com/github/Quocdank3/BTTL/blob/main/phan2_cau_2.ipynb\" target=\"_parent\"><img src=\"https://colab.research.google.com/assets/colab-badge.svg\" alt=\"Open In Colab\"/></a>"
      ]
    },
    {
      "cell_type": "code",
      "execution_count": null,
      "metadata": {
        "colab": {
          "base_uri": "https://localhost:8080/"
        },
        "id": "wZZa8qL5IbL0",
        "outputId": "f563b6de-f940-4ee0-b03a-be832b20d494"
      },
      "outputs": [
        {
          "output_type": "stream",
          "name": "stdout",
          "text": [
            "nghiem cua pt la: {x: -1, y: 0, z: -3}\n"
          ]
        }
      ],
      "source": [
        "from sympy import*\n",
        "import numpy as np\n",
        "# giải hệ phuong trình\n",
        "def giai_he_pt():\n",
        "   x,y,z=symbols('x,y,z')\n",
        "   eq1=Eq(2*x+5*y+z,-5)\n",
        "   eq2=Eq(4*x+2*y-2*z,2)\n",
        "   eq3=Eq(x+y-x,0)\n",
        "   kq=solve((eq1,eq2,eq3),(x,y,z))\n",
        "   print('nghiem cua pt la:',kq)\n",
        "def main():\n",
        "   giai_he_pt()\n",
        "if __name__== '__main__':\n",
        "   main()\n"
      ]
    },
    {
      "cell_type": "code",
      "source": [
        "# tính lim\n",
        "def tinh_lim():\n",
        "   x=symbols('x')\n",
        "   f=(sqrt(x**3-3*x**3))**3 + sqrt(x**2-2*x)\n",
        "   kq=limit(f,x,oo)\n",
        "   print('ket qua gioi han la :',kq)\n",
        "def main():\n",
        "    tinh_lim()\n",
        "if __name__== '__main__':\n",
        "    main()\n"
      ],
      "metadata": {
        "colab": {
          "base_uri": "https://localhost:8080/"
        },
        "id": "FGAQ_4o8Ijgu",
        "outputId": "27360166-0f23-494a-a685-2f9ca596c5ef"
      },
      "execution_count": null,
      "outputs": [
        {
          "output_type": "stream",
          "name": "stdout",
          "text": [
            "ket qua gioi han la : -oo*I\n"
          ]
        }
      ]
    },
    {
      "cell_type": "code",
      "source": [
        "# tính đạo hàm \n",
        "def tinh_dao_ham():\n",
        "   x=symbols('x')\n",
        "   f=(2*x-1)/(x+2)\n",
        "   kq=diff(f,x)\n",
        "   print('ket qua dao ham la:',kq)\n",
        "def main():\n",
        "    tinh_dao_ham()\n",
        "if __name__== '__main__':\n",
        "    main()\n"
      ],
      "metadata": {
        "colab": {
          "base_uri": "https://localhost:8080/"
        },
        "id": "UZ5BIEuKIrWI",
        "outputId": "211eac83-6150-43e2-a5e4-06511b4cf0e0"
      },
      "execution_count": null,
      "outputs": [
        {
          "output_type": "stream",
          "name": "stdout",
          "text": [
            "ket qua dao ham la: 2/(x + 2) - (2*x - 1)/(x + 2)**2\n"
          ]
        }
      ]
    },
    {
      "cell_type": "code",
      "source": [
        "# tính nguyên hàm\n",
        "def tinh_nguyen_ham():\n",
        "   x=symbols('x')\n",
        "   f=(x/(x**2+1))\n",
        "   kq=integrate(f,x)\n",
        "   print('kết quả nguyên hàm là:',kq)\n",
        "def main():\n",
        "    tinh_nguyen_ham()\n",
        "if __name__== '__main__':\n",
        "    main()"
      ],
      "metadata": {
        "colab": {
          "base_uri": "https://localhost:8080/"
        },
        "id": "GEMuMfQYIxLW",
        "outputId": "08d37307-5315-4213-f049-be446a10a4e6"
      },
      "execution_count": null,
      "outputs": [
        {
          "output_type": "stream",
          "name": "stdout",
          "text": [
            "kết quả nguyên hàm là: log(x**2 + 1)/2\n"
          ]
        }
      ]
    },
    {
      "cell_type": "code",
      "source": [
        "# tính tích phân\n",
        "def tinh_tich_phan():\n",
        "   x=symbols('x')\n",
        "   f=(1-x*tan(x))/((x**2)*cos(x)+x)\n",
        "   kq=integrate(f,(x,(2*pi)/3,pi))\n",
        "   print('tich phan cua f la',kq)\n",
        "def main():\n",
        "   tinh_tich_phan()\n",
        "if __name__== '__main__':\n",
        "   main()\n"
      ],
      "metadata": {
        "colab": {
          "base_uri": "https://localhost:8080/"
        },
        "id": "JHv79jj_I0D2",
        "outputId": "7beff4bc-6066-4ca9-d5a6-68951a25e0eb"
      },
      "execution_count": null,
      "outputs": [
        {
          "output_type": "stream",
          "name": "stdout",
          "text": [
            "tich phan cua f la -Integral(x*tan(x)/(x**2*cos(x) + x), (x, 2*pi/3, pi)) - Integral(-1/(x**2*cos(x) + x), (x, 2*pi/3, pi))\n"
          ]
        }
      ]
    },
    {
      "cell_type": "code",
      "source": [
        "from sympy import*\n",
        "import numpy as np\n",
        "# giải hệ phuong trình\n",
        "def giai_he_pt():\n",
        "   x,y,z=symbols('x,y,z')\n",
        "   eq1=Eq(2*x+5*y+z,-5)\n",
        "   eq2=Eq(4*x+2*y-2*z,2)\n",
        "   eq3=Eq(x+y-x,0)\n",
        "   kq=solve((eq1,eq2,eq3),(x,y,z))\n",
        "   print('nghiem cua pt la:',kq)\n",
        "# tính lim\n",
        "def tinh_lim():\n",
        "   x=symbols('x')\n",
        "   f=(sqrt(x**3-3*x**3))**3 + sqrt(x**2-2*x)\n",
        "   kq=limit(f,x,oo)\n",
        "   print('ket qua gioi han la :',kq)\n",
        "# tính đạo hàm \n",
        "def tinh_dao_ham():\n",
        "   x=symbols('x')\n",
        "   f=(2*x-1)/(x+2)\n",
        "   kq=diff(f,x)\n",
        "   print('ket qua dao ham la:',kq)\n",
        "# tính nguyên hàm\n",
        "def tinh_nguyen_ham():\n",
        "   x=symbols('x')\n",
        "   f=(x/(x**2+1))\n",
        "   kq=integrate(f,x)\n",
        "   print('kết quả nguyên hàm là:',kq)\n",
        "# tính tích phân\n",
        "def tinh_tich_phan():\n",
        "   x=symbols('x')\n",
        "   f=(1-x*tan(x))/((x**2)*cos(x)+x)\n",
        "   kq=integrate(f,(x,(2*pi)/3,pi))\n",
        "   print('tich phan cua f la',kq)\n",
        "def main():\n",
        "   giai_he_pt()\n",
        "   tinh_lim()\n",
        "   tinh_dao_ham()\n",
        "   tinh_nguyen_ham()\n",
        "   tinh_tich_phan()\n",
        "if __name__== '__main__':\n",
        "   main()\n"
      ],
      "metadata": {
        "id": "amX31vlQKz2u",
        "outputId": "ff9abdf5-6fd9-49e4-db96-3375b6482d79",
        "colab": {
          "base_uri": "https://localhost:8080/"
        }
      },
      "execution_count": null,
      "outputs": [
        {
          "output_type": "stream",
          "name": "stdout",
          "text": [
            "nghiem cua pt la: {x: -1, y: 0, z: -3}\n",
            "ket qua gioi han la : -oo*I\n",
            "ket qua dao ham la: 2/(x + 2) - (2*x - 1)/(x + 2)**2\n",
            "kết quả nguyên hàm là: log(x**2 + 1)/2\n",
            "tich phan cua f la -Integral(x*tan(x)/(x**2*cos(x) + x), (x, 2*pi/3, pi)) - Integral(-1/(x**2*cos(x) + x), (x, 2*pi/3, pi))\n"
          ]
        }
      ]
    }
  ]
}